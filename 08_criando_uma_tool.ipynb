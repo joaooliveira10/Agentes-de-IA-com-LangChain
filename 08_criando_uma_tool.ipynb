{
 "cells": [
  {
   "cell_type": "markdown",
   "metadata": {},
   "source": [
    "# Exemplos de tools funcionais\n",
    "\n",
    "Agora vamos abordar a criação de duas tools com utilidade real para você entender como seria todo o processo."
   ]
  },
  {
   "cell_type": "markdown",
   "metadata": {},
   "source": [
    "## Criando um tool de busca de temperatura\n",
    "\n",
    "https://open-meteo.com/en/docs"
   ]
  },
  {
   "cell_type": "code",
   "execution_count": 2,
   "metadata": {},
   "outputs": [],
   "source": [
    "import requests\n",
    "import datetime\n",
    "\n",
    "from langchain.agents import tool\n",
    "from pydantic import BaseModel, Field #Importação atualizada\n",
    "\n",
    "class RetornTempArgs(BaseModel):\n",
    "    latitude: float = Field(description='Latitude da localidade que buscamos a temperatura')\n",
    "    longitude: float = Field(description='Longitude da localidade que buscamos a temperatura')\n",
    "\n",
    "\n",
    "@tool(args_schema=RetornTempArgs)\n",
    "def retorna_temperatura_atual(latitude: float, longitude: float):\n",
    "    '''Retorna a temperatura atual para uma dada coordenada'''\n",
    "\n",
    "    URL = 'https://api.open-meteo.com/v1/forecast'\n",
    "\n",
    "    params = {\n",
    "        'latitude': latitude,\n",
    "        'longitude': longitude,\n",
    "        'hourly': 'temperature_2m',\n",
    "        'forecast_days': 1,\n",
    "    }\n",
    "\n",
    "    resposta = requests.get(URL, params=params)\n",
    "    if resposta.status_code == 200:\n",
    "        resultado = resposta.json()\n",
    "        \n",
    "        hora_agora = datetime.datetime.now(datetime.UTC).replace(tzinfo=None)\n",
    "        lista_horas = [datetime.datetime.fromisoformat(temp_str) for temp_str in resultado['hourly']['time']]\n",
    "        index_mais_prox = min(range(len(lista_horas)), key=lambda x: abs(lista_horas[x] - hora_agora))\n",
    "\n",
    "        temp_atual = resultado['hourly']['temperature_2m'][index_mais_prox]\n",
    "        return temp_atual\n",
    "    else:\n",
    "        raise Exception(f'Request para API {URL} falhou: {resposta.status_code}')\n"
   ]
  },
  {
   "cell_type": "code",
   "execution_count": 3,
   "metadata": {},
   "outputs": [
    {
     "data": {
      "text/plain": [
       "StructuredTool(name='retorna_temperatura_atual', description='Retorna a temperatura atual para uma dada coordenada', args_schema=<class '__main__.RetornTempArgs'>, func=<function retorna_temperatura_atual at 0x7fd8ae98d1c0>)"
      ]
     },
     "execution_count": 3,
     "metadata": {},
     "output_type": "execute_result"
    }
   ],
   "source": [
    "retorna_temperatura_atual"
   ]
  },
  {
   "cell_type": "code",
   "execution_count": 4,
   "metadata": {},
   "outputs": [
    {
     "data": {
      "text/plain": [
       "{'latitude': {'description': 'Latitude da localidade que buscamos a temperatura',\n",
       "  'title': 'Latitude',\n",
       "  'type': 'number'},\n",
       " 'longitude': {'description': 'Longitude da localidade que buscamos a temperatura',\n",
       "  'title': 'Longitude',\n",
       "  'type': 'number'}}"
      ]
     },
     "execution_count": 4,
     "metadata": {},
     "output_type": "execute_result"
    }
   ],
   "source": [
    "retorna_temperatura_atual.args"
   ]
  },
  {
   "cell_type": "markdown",
   "metadata": {},
   "source": [
    "### Testando a tool"
   ]
  },
  {
   "cell_type": "code",
   "execution_count": 5,
   "metadata": {},
   "outputs": [
    {
     "data": {
      "text/plain": [
       "28.3"
      ]
     },
     "execution_count": 5,
     "metadata": {},
     "output_type": "execute_result"
    }
   ],
   "source": [
    "retorna_temperatura_atual.invoke({'latitude': -30, 'longitude': -50})"
   ]
  },
  {
   "cell_type": "markdown",
   "metadata": {},
   "source": [
    "## Criando um tool de busca no wikipedia"
   ]
  },
  {
   "cell_type": "code",
   "execution_count": 6,
   "metadata": {},
   "outputs": [],
   "source": [
    "import wikipedia\n",
    "wikipedia.set_lang('pt')\n",
    "\n",
    "@tool\n",
    "def busca_wikipedia(query: str):\n",
    "    \"\"\"Faz busca no wikipedia e retorna resumos de páginas para a query\"\"\"\n",
    "    titulos_paginas = wikipedia.search(query)\n",
    "    resumos = []\n",
    "    for titulo in titulos_paginas[:3]:\n",
    "        try:\n",
    "            wiki_page = wikipedia.page(title=titulo, auto_suggest=True)\n",
    "            resumos.append(f'Título da página: {titulo}\\nResumo: {wiki_page.summary}')\n",
    "        except:\n",
    "            pass\n",
    "    if not resumos:\n",
    "        return 'Busca não teve retorno'\n",
    "    else:\n",
    "        return '\\n\\n'.join(resumos)"
   ]
  },
  {
   "cell_type": "code",
   "execution_count": 7,
   "metadata": {},
   "outputs": [
    {
     "data": {
      "text/plain": [
       "'Título da página: Futebol\\nResumo: O futebol (em inglês: football, soccer) - originalmente futebol associado (em inglês: association football), e também referido como futebol de campoou futebol de onze - é um esporte de equipe jogado entre dois times de 11 jogadores cada um e um árbitro que se ocupa da correta aplicação das normas. É considerado o desporto mais popular do mundo, pois cerca de 270 milhões de pessoas participam das suas várias competições. É jogado num campo retangular gramado, com uma baliza em cada lado do campo. O objetivo do jogo é deslocar uma bola através do campo para colocá-la dentro da baliza adversária, ação que se denomina gol(pt-BR) ou golo(pt-PT?). A equipe que marca mais gols ao término da partida é a vencedora.\\nO jogo moderno foi criado na Inglaterra com a formação de The Football Association, cujas regras de 1863 são a base do desporto na atualidade. O órgão regente do futebol é a Federação Internacional de Futebol (em francês: Fédération Internationale de Football Association), mais conhecida pelo acrônimo FIFA. A principal competição internacional de futebol é a Copa do Mundo FIFA, realizada a cada quatro anos. Este evento é o mais famoso e com maior quantidade de espectadores do mundo, o dobro da audiência dos Jogos Olímpicos.\\n\\n\\n\\nTítulo da página: Campeonato Brasileiro de Futebol\\nResumo: O Campeonato Brasileiro de Futebol, também conhecido como Campeonato Brasileiro, Brasileirão e Série A, é a liga brasileira de futebol profissional entre clubes do Brasil, sendo a principal competição futebolística no país. É por meio dela que são indicados os representantes brasileiros para a Copa Libertadores da América (juntamente com o campeão da Copa do Brasil). O campeão do torneio também conquista uma vaga na Supercopa do Brasil no ano seguinte.\\nAo contrário do que ocorrera em outros países da América do Sul, houve muitos desafios para que o futebol no Brasil tivesse um sistema de disputa em nível federal. Além da grande dimensão geográfica do país, contribuíram para essa situação a origem e a consolidação do futebol no país a partir dos grandes centros urbanos, algo que fortaleceu uma organização por federações estaduais; as intensas rivalidades pelo poder entre dirigentes paulistas e cariocas, os maiores centros futebolísticos do Brasil; e a própria postura da Confederação Brasileira de Desportos (CBD, precursora da atual Confederação Brasileira de Futebol), a então entidade responsável pelo futebol nacional e que tinha mais interesse em arrecadar com o modelo de um Campeonato Brasileiro entre Seleções Estaduais, originalmente a nomenclatura \"Campeonato Brasileiro de Futebol\" pertencia a essa disputa, jogada de forma descontínua entre 1922 e 1962, além de uma edição em 1987. Em 1937, surge a primeira disputa nacional de clubes profissionais, o Torneio dos Campeões da FBF (liga de dissidentes e defensora da profissionalização), reconhecido pela CBF, em 2023, como Campeonato Brasileiro. Antes, houve o Campeonato Brasileiro de Clubes Campeões, triangular da CBD jogado em 1920, em pleno amadorismo. Apenas em 1959, como estabelecido em 1955, a CBD cria um torneio nacional regular de clubes profissionais, a Taça Brasil. Em 1967, o Torneio Rio-São Paulo foi expandido para incluir equipes de outros estados, ficando conhecido como Torneio Roberto Gomes Pedrosa, e passando a ser considerado uma competição nacional. Em 1971, a CBD iniciou um novo torneio nacional, o Campeonato Nacional de Clubes, torneio este, que foi considerado, entre 1976 e 2010, pela entidade máxima do futebol brasileiro como sendo a primeira edição do Campeonato Brasileiro. Em seus boletins oficiais entre 1971 e 1975, a CBD colocava as edições do Torneio Roberto Gomes Pedrosa/Taça de Prata em igualdade de condições com as edições posteriores do Campeonato Brasileiro, apenas mantendo os nomes próprios, excluindo esta informação a partir do boletim de 1976. O primeiro Campeonato Brasileiro oficialmente com esse nome foi realizado em 1989. Em dezembro de 2010, a CBF unificou a Taça Brasil (1959 a 1968) e o Torneio Roberto Gomes Pedrosa/Taça de Prata (1967 a 1970) aos títulos a partir de 1971.\\nUma das características históricas do Campeonato Brasileiro foi a falta de uma padronização no sistema de disputa, que mudava a cada ano, assim como as regras e o número de participantes. Por conta disso, em diversas temporadas não havia sistema de acesso e descenso para a Segunda Divisão, ao mesmo tempo em que houve edições as quais o regulamento previa, no mesmo ano, o acesso das equipes com melhor campanha para a Primeira Divisão. Somente na década de 1990, a CBF instituiu um sistema mais regular entre diferentes divisões. Dentre os vários formatos já adotados incluem-se sistema eliminatório (1959–1968) e sistemas mistos de grupos (1967–2002). A fórmula de disputa do campeonato foi padronizada somente em 2003, quando foi adotado o sistema de pontos corridos com todas as equipes se enfrentando em turno e returno. O primeiro campeão brasileiro foi o Atlético Mineiro em 1937, enquanto o Palmeiras é o clube que detém o maior número de títulos brasileiros, com doze conquistas; Desde sua edição pioneira em 1937, dezessete clubes já foram campeões brasileiros, treze por mais de uma vez, de sete estados e nove cidades diferentes, sendo que apenas o estado de São Paulo teve campeão por mais de uma cidade, três no total (Campinas, Santos e São Paulo), e apenas a cidade do Rio de Janeiro teve mais de três clubes campeões, quatro deles (Botafogo, Flamengo, Fluminense e Vasco da Gama), características estas que demonstram o nível de competitividade do campeonato.\\nO Campeonato Brasileiro é uma das ligas mais fortes do mundo, sendo a liga mais valiosa do continente americano e a sétima do mundo, contando entre seus integrantes habituais com a participação do maior número de clubes detentores de títulos de \"campeões mundiais\", com onze campeonatos ganhos por sete clubes, o segundo em termos de quantidade de títulos da Copa Libertadores da América, com vinte e três títulos conquistados por onze clubes e ainda outros três finalistas, atrás em títulos apenas da Primera División Argentina, com 25 títulos conquistados por oito clubes e mais dois clubes finalistas. Nos últimos anos, o Brasileirão vem sendo também classificado como um dos campeonatos nacionais mais valiosos do mundo. Por conta disso, a Série A do Campeonato Brasileiro é reconhecida como uma das ligas nacionais mais equilibradas do mundo. De acordo com o ranking da Federação Internacional de História e Estatísticas do Futebol (IFFHS, na sua sigla em inglês), é um dos cinco campeonatos mais fortes do mundo — no relatório de 2020, esteve somente atrás da Premier League inglesa. É ainda o torneio de futebol mais visto no continente americano e um dos mais expostos internacionalmente, transmitido para mais de 150 países.\\n\\nTítulo da página: Campeonato Paulista de Futebol\\nResumo: O Campeonato Paulista de Futebol, mais conhecido como Campeonato Paulista ou ainda Paulistão, é a competição profissional desse esporte no estado de São Paulo. Organizada pela Federação Paulista de Futebol desde 1941, é a liga de futebol mais antiga do Brasil, sendo realizada ininterruptamente desde 1902. Teve como primeiro campeão o São Paulo Athletic. Seu atual campeão é o Palmeiras, vencedor da edição de 2024, quando conquistou seu vigésimo sexto título na competição. \\nDe acordo com a contagem da Federação Paulista de Futebol, os maiores campeões da competição são: o Corinthians, com 30 conquistas; o Palmeiras, com 26 títulos; e São Paulo e Santos, tendo conquistado 22 vezes cada.  Além dos títulos contabilizados pela Federação Paulista, o Palmeiras tem mais dois títulos extras do Campeonato Paulista e o São Paulo mais um do Supercampeonato Paulista. A rivalidade entre estes quatro times, que figuram no grupo das maiores equipes do Brasil, está marcada na história desta competição. Outros doze clubes já venceram a principal divisão do futebol paulista ao longo de sua história, que contou com a participação de 102 clubes diferentes.\\nAtualmente, o torneio da Primeira Divisão é disputado por dezesseis equipes e normalmente realizado entre janeiro e meados de abril da temporada do futebol brasileiro. A nova fórmula de disputa (com dezesseis clubes divididos em quatro grupos) entrou em vigor em 2017.\\n\\n'"
      ]
     },
     "execution_count": 7,
     "metadata": {},
     "output_type": "execute_result"
    }
   ],
   "source": [
    "busca_wikipedia.invoke({'query': 'futebol'})"
   ]
  },
  {
   "cell_type": "markdown",
   "metadata": {},
   "source": [
    "### Testando a tool"
   ]
  },
  {
   "cell_type": "code",
   "execution_count": 8,
   "metadata": {},
   "outputs": [],
   "source": [
    "from langchain.prompts import ChatPromptTemplate\n",
    "from langchain_openai import ChatOpenAI\n",
    "from langchain_core.utils.function_calling import convert_to_openai_function\n",
    "\n",
    "prompt = ChatPromptTemplate.from_messages([\n",
    "    ('system', 'Você é um assistente amigável chamado Isaac'),\n",
    "    ('user', '{input}')\n",
    "])\n",
    "chat = ChatOpenAI()\n",
    "\n",
    "tools = [convert_to_openai_function(busca_wikipedia), convert_to_openai_function(retorna_temperatura_atual)]\n",
    "chain = prompt | chat.bind(functions=tools)\n"
   ]
  },
  {
   "cell_type": "code",
   "execution_count": 9,
   "metadata": {},
   "outputs": [
    {
     "data": {
      "text/plain": [
       "AIMessage(content='Olá! Como posso ajudar você hoje?', additional_kwargs={'refusal': None}, response_metadata={'token_usage': {'completion_tokens': 13, 'prompt_tokens': 126, 'total_tokens': 139, 'completion_tokens_details': {'accepted_prediction_tokens': 0, 'audio_tokens': 0, 'reasoning_tokens': 0, 'rejected_prediction_tokens': 0}, 'prompt_tokens_details': {'audio_tokens': 0, 'cached_tokens': 0}}, 'model_name': 'gpt-3.5-turbo-0125', 'system_fingerprint': None, 'finish_reason': 'stop', 'logprobs': None}, id='run-fa585e2f-82f3-453c-bd18-b5bcaad544c5-0', usage_metadata={'input_tokens': 126, 'output_tokens': 13, 'total_tokens': 139, 'input_token_details': {'audio': 0, 'cache_read': 0}, 'output_token_details': {'audio': 0, 'reasoning': 0}})"
      ]
     },
     "execution_count": 9,
     "metadata": {},
     "output_type": "execute_result"
    }
   ],
   "source": [
    "chain.invoke({'input': 'Olá'})"
   ]
  },
  {
   "cell_type": "code",
   "execution_count": 10,
   "metadata": {},
   "outputs": [
    {
     "data": {
      "text/plain": [
       "AIMessage(content='', additional_kwargs={'function_call': {'arguments': '{\"latitude\":-30.0346,\"longitude\":-51.2177}', 'name': 'retorna_temperatura_atual'}, 'refusal': None}, response_metadata={'token_usage': {'completion_tokens': 29, 'prompt_tokens': 134, 'total_tokens': 163, 'completion_tokens_details': {'accepted_prediction_tokens': 0, 'audio_tokens': 0, 'reasoning_tokens': 0, 'rejected_prediction_tokens': 0}, 'prompt_tokens_details': {'audio_tokens': 0, 'cached_tokens': 0}}, 'model_name': 'gpt-3.5-turbo-0125', 'system_fingerprint': None, 'finish_reason': 'function_call', 'logprobs': None}, id='run-0e93ad1f-fc9f-4cac-bb1e-51cb0dabd08c-0', usage_metadata={'input_tokens': 134, 'output_tokens': 29, 'total_tokens': 163, 'input_token_details': {'audio': 0, 'cache_read': 0}, 'output_token_details': {'audio': 0, 'reasoning': 0}})"
      ]
     },
     "execution_count": 10,
     "metadata": {},
     "output_type": "execute_result"
    }
   ],
   "source": [
    "chain.invoke({'input': 'Qual é a temperatura de Porto Alegre?'})"
   ]
  },
  {
   "cell_type": "code",
   "execution_count": 11,
   "metadata": {},
   "outputs": [
    {
     "data": {
      "text/plain": [
       "AIMessage(content='', additional_kwargs={'function_call': {'arguments': '{\"query\":\"Isaac Asimov\"}', 'name': 'busca_wikipedia'}, 'refusal': None}, response_metadata={'token_usage': {'completion_tokens': 21, 'prompt_tokens': 132, 'total_tokens': 153, 'completion_tokens_details': {'accepted_prediction_tokens': 0, 'audio_tokens': 0, 'reasoning_tokens': 0, 'rejected_prediction_tokens': 0}, 'prompt_tokens_details': {'audio_tokens': 0, 'cached_tokens': 0}}, 'model_name': 'gpt-3.5-turbo-0125', 'system_fingerprint': None, 'finish_reason': 'function_call', 'logprobs': None}, id='run-270fc565-b7e5-42a2-9ad4-3880589e50ca-0', usage_metadata={'input_tokens': 132, 'output_tokens': 21, 'total_tokens': 153, 'input_token_details': {'audio': 0, 'cache_read': 0}, 'output_token_details': {'audio': 0, 'reasoning': 0}})"
      ]
     },
     "execution_count": 11,
     "metadata": {},
     "output_type": "execute_result"
    }
   ],
   "source": [
    "chain.invoke({'input': 'Quem foi Isaac Asimov?'})"
   ]
  },
  {
   "cell_type": "code",
   "execution_count": null,
   "metadata": {},
   "outputs": [],
   "source": []
  }
 ],
 "metadata": {
  "kernelspec": {
   "display_name": ".venv",
   "language": "python",
   "name": "python3"
  },
  "language_info": {
   "codemirror_mode": {
    "name": "ipython",
    "version": 3
   },
   "file_extension": ".py",
   "mimetype": "text/x-python",
   "name": "python",
   "nbconvert_exporter": "python",
   "pygments_lexer": "ipython3",
   "version": "3.11.9"
  }
 },
 "nbformat": 4,
 "nbformat_minor": 2
}

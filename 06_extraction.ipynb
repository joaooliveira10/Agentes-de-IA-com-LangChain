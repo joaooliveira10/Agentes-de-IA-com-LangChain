{
 "cells": [
  {
   "cell_type": "markdown",
   "metadata": {},
   "source": [
    "# Extraction\n",
    "\n",
    "Outra aplicação comum para funções é a relização de extração de conteúdos do texto informado. Isso facilita o parseamento de informações em grande escala, em que podemos utilizar scripts para limpar textos informados, mantendo apenas o necessário da informação que o usuário necessita. Vamos começar com um exemplo simples, extraindo a informação de datas e acontecimentos de um texto."
   ]
  },
  {
   "cell_type": "markdown",
   "metadata": {},
   "source": [
    "## Extraindo datas e acontecimentos\n",
    "\n",
    "Digamos que temos um texto como o a seguir e queremos extrair datas e acontecimentos que aparecerem no texto:\n"
   ]
  },
  {
   "cell_type": "code",
   "execution_count": 1,
   "metadata": {},
   "outputs": [],
   "source": [
    "texto = '''A Apple foi fundada em 1 de abril de 1976 por Steve Wozniak, Steve Jobs e Ronald Wayne \n",
    "com o nome de Apple Computers, na Califórnia. O nome foi escolhido por Jobs após a visita do pomar \n",
    "de maçãs da fazenda de Robert Friedland, também pelo fato do nome soar bem e ficar antes da Atari \n",
    "nas listas telefônicas.\n",
    "\n",
    "O primeiro protótipo da empresa foi o Apple I que foi demonstrado na Homebrew Computer Club em 1975, \n",
    "as vendas começaram em julho de 1976 com o preço de US$ 666,66, aproximadamente 200 unidades foram \n",
    "vendidas,[21] em 1977 a empresa conseguiu o aporte de Mike Markkula e um empréstimo do Bank of America.'''"
   ]
  },
  {
   "cell_type": "code",
   "execution_count": 2,
   "metadata": {},
   "outputs": [
    {
     "data": {
      "text/plain": [
       "{'name': 'ListaAcontecimentos',\n",
       " 'description': 'Acontecimentos para extração',\n",
       " 'parameters': {'properties': {'acontecimentos': {'description': 'Lista de acontecimentos presentes no texto informado',\n",
       "    'items': {'description': 'Informação sobre um acontecimento',\n",
       "     'properties': {'data': {'description': 'Data do acontecimento no formato YYYY-MM-DD',\n",
       "       'type': 'string'},\n",
       "      'acontecimento': {'description': 'Acontecimento ecxtraído do texto',\n",
       "       'type': 'string'}},\n",
       "     'required': ['data', 'acontecimento'],\n",
       "     'type': 'object'},\n",
       "    'type': 'array'}},\n",
       "  'required': ['acontecimentos'],\n",
       "  'type': 'object'}}"
      ]
     },
     "execution_count": 2,
     "metadata": {},
     "output_type": "execute_result"
    }
   ],
   "source": [
    "from pydantic import BaseModel, Field #Importação atualizada\n",
    "from typing import List\n",
    "from langchain_core.utils.function_calling import convert_to_openai_function\n",
    "\n",
    "class Acontecimento(BaseModel):\n",
    "    '''Informação sobre um acontecimento'''\n",
    "    data: str = Field(description='Data do acontecimento no formato YYYY-MM-DD')\n",
    "    acontecimento: str = Field(description='Acontecimento ecxtraído do texto')\n",
    "\n",
    "class ListaAcontecimentos(BaseModel):\n",
    "    \"\"\"Acontecimentos para extração\"\"\"\n",
    "    acontecimentos: List[Acontecimento] = Field(description='Lista de acontecimentos presentes no texto informado')\n",
    "\n",
    "tool_acontecimentos = convert_to_openai_function(ListaAcontecimentos)\n",
    "tool_acontecimentos"
   ]
  },
  {
   "cell_type": "code",
   "execution_count": 3,
   "metadata": {},
   "outputs": [],
   "source": [
    "from langchain.prompts import ChatPromptTemplate\n",
    "from langchain_openai import ChatOpenAI\n",
    "\n",
    "prompt = ChatPromptTemplate.from_messages([\n",
    "    ('system', 'Extraia as frases de acontecimentos. Elas devem ser extraídas integralmente'),\n",
    "    ('user', '{input}')\n",
    "])\n",
    "chat = ChatOpenAI()\n",
    "\n",
    "chain = (prompt \n",
    "         | chat.bind(functions=[tool_acontecimentos], function_call={'name': 'ListaAcontecimentos'}))\n"
   ]
  },
  {
   "cell_type": "code",
   "execution_count": 4,
   "metadata": {},
   "outputs": [
    {
     "data": {
      "text/plain": [
       "AIMessage(content='', additional_kwargs={'function_call': {'arguments': '{\"acontecimentos\":[{\"data\":\"1976-04-01\",\"acontecimento\":\"A Apple foi fundada por Steve Wozniak, Steve Jobs e Ronald Wayne na Califórnia.\"},{\"data\":\"1975-07\",\"acontecimento\":\"Início das vendas do Apple I com o preço de US$ 666,66.\"},{\"data\":\"1977\",\"acontecimento\":\"A empresa conseguiu aporte de Mike Markkula e um empréstimo do Bank of America.\"}]}', 'name': 'ListaAcontecimentos'}, 'refusal': None}, response_metadata={'token_usage': {'completion_tokens': 107, 'prompt_tokens': 325, 'total_tokens': 432, 'completion_tokens_details': {'accepted_prediction_tokens': 0, 'audio_tokens': 0, 'reasoning_tokens': 0, 'rejected_prediction_tokens': 0}, 'prompt_tokens_details': {'audio_tokens': 0, 'cached_tokens': 0}}, 'model_name': 'gpt-3.5-turbo-0125', 'system_fingerprint': None, 'finish_reason': 'stop', 'logprobs': None}, id='run-22278f6d-f477-4c8c-a001-f307988c6daf-0', usage_metadata={'input_tokens': 325, 'output_tokens': 107, 'total_tokens': 432, 'input_token_details': {'audio': 0, 'cache_read': 0}, 'output_token_details': {'audio': 0, 'reasoning': 0}})"
      ]
     },
     "execution_count": 4,
     "metadata": {},
     "output_type": "execute_result"
    }
   ],
   "source": [
    "chain.invoke({'input': texto})"
   ]
  },
  {
   "cell_type": "code",
   "execution_count": 5,
   "metadata": {},
   "outputs": [
    {
     "data": {
      "text/plain": [
       "{'acontecimentos': [{'data': '1976-04-01',\n",
       "   'acontecimento': 'A Apple foi fundada por Steve Wozniak, Steve Jobs e Ronald Wayne na Califórnia.'},\n",
       "  {'data': '1975',\n",
       "   'acontecimento': 'O primeiro protótipo da empresa, o Apple I, foi demonstrado na Homebrew Computer Club.'},\n",
       "  {'data': '1976-07',\n",
       "   'acontecimento': 'Início das vendas do Apple I, com o preço de US$ 666,66, aproximadamente 200 unidades foram vendidas.'},\n",
       "  {'data': '1977',\n",
       "   'acontecimento': 'A empresa conseguiu o aporte de Mike Markkula e um empréstimo do Bank of America.'}]}"
      ]
     },
     "execution_count": 5,
     "metadata": {},
     "output_type": "execute_result"
    }
   ],
   "source": [
    "from langchain.output_parsers.openai_functions import JsonOutputFunctionsParser\n",
    "\n",
    "chain = (prompt \n",
    "         | chat.bind(functions=[tool_acontecimentos], function_call={'name': 'ListaAcontecimentos'})\n",
    "         | JsonOutputFunctionsParser())\n",
    "\n",
    "chain.invoke({'input': texto})"
   ]
  },
  {
   "cell_type": "code",
   "execution_count": 6,
   "metadata": {},
   "outputs": [
    {
     "data": {
      "text/plain": [
       "[{'data': '1976-04-01',\n",
       "  'acontecimento': 'A Apple foi fundada por Steve Wozniak, Steve Jobs e Ronald Wayne na Califórnia com o nome de Apple Computers.'},\n",
       " {'data': '1976-07',\n",
       "  'acontecimento': 'Início das vendas do Apple I com o preço de US$ 666,66 e venda de aproximadamente 200 unidades.'},\n",
       " {'data': '1977',\n",
       "  'acontecimento': 'A empresa Apple recebeu apoio de Mike Markkula e um empréstimo do Bank of America.'}]"
      ]
     },
     "execution_count": 6,
     "metadata": {},
     "output_type": "execute_result"
    }
   ],
   "source": [
    "from langchain.output_parsers.openai_functions import JsonKeyOutputFunctionsParser\n",
    "\n",
    "chain = (prompt \n",
    "         | chat.bind(functions=[tool_acontecimentos], function_call={'name': 'ListaAcontecimentos'})\n",
    "         | JsonKeyOutputFunctionsParser(key_name='acontecimentos'))\n",
    "\n",
    "chain.invoke({'input': texto})"
   ]
  },
  {
   "cell_type": "markdown",
   "metadata": {},
   "source": [
    "## Extraindo informações da web\n",
    "\n",
    "A aplicação de extração pode ser muito utilizanda quando combinada com técnicas de WebScraping. Em geral, em WebScraping estamos buscando informações em páginas web. Em sua grande maioria, essas informações virão comletamente desformatadas e em html, o que dificulta a utilização da informação. Podemos criar aplicações utilizando as técnicas que aprendemos para conseguir as informações específicas que precisamos das páginas que estamos analisando.\n",
    "\n",
    "Vamos dar um exemplo analisando a página de blog da Asimov e tentando extrair todas os posts contidos na página.\n",
    "https://hub.asimov.academy/blog/\n"
   ]
  },
  {
   "cell_type": "code",
   "execution_count": 7,
   "metadata": {},
   "outputs": [
    {
     "name": "stderr",
     "output_type": "stream",
     "text": [
      "USER_AGENT environment variable not set, consider setting it to identify your requests.\n"
     ]
    },
    {
     "data": {
      "text/plain": [
       "[Document(metadata={'source': 'https://hub.asimov.academy/blog/', 'title': 'Blog de Python, IA e Data Science | Asimov Academy', 'description': 'Confira os principais assuntos de programação em Python, Inteligência Artificial e Data Science no blog da Asimov Academy!', 'language': 'pt-BR'}, page_content='\\n\\n\\n\\n\\n\\n\\n\\n\\n\\n\\n\\nBlog de Python, IA e Data Science | Asimov Academy\\n\\n\\n\\n\\n\\n\\n\\n\\n\\n\\n\\n\\n\\n\\n\\n\\n\\n\\n\\n\\n\\n\\n\\n\\n\\n\\n\\n\\n\\n\\n\\n\\n\\n\\n\\n\\n\\n\\n\\n\\n\\n\\n\\n\\n\\n\\n\\n\\n\\n\\n\\n\\n\\n\\n\\n\\n\\n\\n\\n\\n\\n\\n\\n\\n\\n\\n\\n\\n\\n\\n\\n\\n\\n\\n\\n\\n\\n\\n\\n\\n\\nTamanho de fonte\\n\\nA\\nA\\nA\\nA\\n\\n\\n\\nAlto contraste\\n\\nLigado\\nDesligado\\n\\n\\n\\nAltura de linha\\n\\n1\\n1.3\\n1.5\\n1.7\\n2.0\\n\\n\\n\\n \\n\\n\\n\\nPesquisar na plataforma\\n\\n\\n\\n\\n\\nEntrar\\nCadastrar\\n\\n\\n\\n\\n\\nBlog\\n\\n\\nArtigos\\n\\n\\nTutoriais\\n\\n\\nMateriais Extras\\n\\n\\nEscreva para nós!\\n200xp \\n\\n\\n\\n\\nBlog da Asimov\\n\\n        Fique por dentro dos principais assuntos de Python e Inteligência Artificial      \\n\\n\\n\\n\\n\\n113 posts\\n\\n\\n\\nPesquisar\\n\\n\\n\\n\\nCategoria\\n\\nTodas as categorias\\nAnálise de Dados\\nAplicações IA\\nAutomações\\nCiência de Dados\\nDashboards\\nProgramação Python\\nTrading Quantitativo\\nVisão Computacional\\nVisualização de Dados\\nWeb\\nWeb Apps\\n\\n\\n\\n\\n\\n          Mais filtros\\n        \\n\\n\\nCategoria\\n\\nTodas as categorias\\nAnálise de Dados\\nAplicações IA\\nAutomações\\nCiência de Dados\\nDashboards\\nProgramação Python\\nTrading Quantitativo\\nVisão Computacional\\nVisualização de Dados\\nWeb\\nWeb Apps\\n\\n\\n\\nOrdernar por:\\n\\n\\n\\n                  Mais relevante\\n                \\n\\n\\n\\n\\n                  Mais novo\\n                \\n\\n\\n\\n\\n                  Mais antigo\\n                \\n\\n\\n\\n\\n\\nStatus\\n\\n\\n\\n                  Todos\\n                \\n\\n\\n\\n\\n                  Lidos\\n                \\n\\n\\n\\n\\n                  Não lidos\\n                \\n\\n\\n\\n\\n\\nAutor\\n\\n\\n\\n\\n                Asimov\\n              \\n\\n\\n\\n                Comunidade\\n              \\n\\n\\n\\nLimpar filtros\\n\\n\\n              Filtrar\\n            \\n\\n\\n\\n\\n\\n\\n\\n\\n \\n\\n24 Destaques da Asimov Academy em 2024\\n\\n\\nRebeca Honório • 2 horas atrás\\n\\n\\n\\n\\n\\n\\n \\n\\nMiniconda: a ferramenta ideal para configurar ambientes Python\\n\\n\\nRebeca Honório • 4 dias atrás\\n\\n\\n\\n\\n\\n\\n \\n\\nScikit-learn: o que é, por que usar e como instalar\\n\\n\\nRebeca Honório • 8 dias atrás\\n\\n\\n\\n\\n\\nComunidade\\n\\n \\n\\nElbow Method e Silhouette Score: como identificar o número ideal de clusters\\n\\n\\nRodrigo Michilles • 9 dias atrás\\n\\n\\n\\n\\n\\n\\n \\n\\nAnálise preditiva: o que é, como funciona e qual a sua importância\\n\\n\\nRebeca Honório • 8 dias atrás\\n\\n\\n\\n\\n\\n\\n \\n\\nEntendendo a regressão logística: conceitos, aplicações e exemplos práticos\\n\\n\\nRebeca Honório • 1 mês atrás\\n\\n\\n\\n\\n\\n\\n \\n\\nRegressão Linear: conceitos fundamentais e aplicações práticas\\n\\n\\nRebeca Honório • 1 mês atrás\\n\\n\\n\\n\\n\\n\\n \\n\\nO que é Ensemble Learning e suas principais técnicas\\n\\n\\nRebeca Honório • 1 mês atrás\\n\\n\\n\\n\\n\\n\\n\\n\\n\\n\\n\\n\\n\\n\\n\\n\\n\\n\\n\\n\\n\\n\\n\\n\\n\\n\\n\\n\\nNenhum artigo encontrado para sua busca.\\n\\n\\nCarregar mais\\n\\n \\n\\n\\n\\n\\n\\n\\n\\n\\n\\n\\n\\n\\n\\n\\n\\n\\nInscreva-se na nossa newsletter\\n\\n\\nInscrever-se\\n\\n\\n\\n\\n\\n\\n\\n\\n\\n\\n\\n\\n\\n\\n\\n\\n\\n\\n\\n\\n\\n\\n\\n\\n\\n\\n\\n\\n\\n\\n\\n\\n\\n\\n\\n\\n\\n \\n\\n\\nInstitucional\\nHome\\nSobre nós\\nManifesto Asimov\\nTermos de uso\\nPolítica de privacidade\\n \\n\\nConteúdos\\nBlog\\nTutoriais\\nNewsletter\\n \\n\\nPlataforma\\nCursos\\nTrilhas\\nProjetos\\nCompilador de Python Online\\n \\n\\nFale conosco\\nE-mail\\nWhatsapp\\nPerguntas frequentes\\n \\n\\nMatricule-se\\nPlanos\\nPara empresas\\n \\n\\n\\n\\n\\nTodos os direitos reservados. Política de Privacidade  - Termos de Uso\\nCNPJ: 41.075.192/0001-82\\n\\n\\n\\n\\n\\nEste site utiliza cookies para melhorar sua experiência. Ao continuar navegando, você concorda com o uso de cookies.\\n\\nAceitar\\nSaiba mais\\n\\n\\n\\n\\n\\n\\n\\n\\n\\n\\n\\n\\n\\n\\n\\n')]"
      ]
     },
     "execution_count": 7,
     "metadata": {},
     "output_type": "execute_result"
    }
   ],
   "source": [
    "from langchain_community.document_loaders.web_base import WebBaseLoader\n",
    "\n",
    "loader = WebBaseLoader('https://hub.asimov.academy/blog/')\n",
    "page = loader.load()\n",
    "page"
   ]
  },
  {
   "cell_type": "code",
   "execution_count": 9,
   "metadata": {},
   "outputs": [
    {
     "data": {
      "text/plain": [
       "{'name': 'BlogSite',\n",
       " 'description': 'Lista de blog posts de um site',\n",
       " 'parameters': {'properties': {'posts': {'description': 'Lista de posts de blog do site',\n",
       "    'items': {'description': 'Informações sobre um post de blog',\n",
       "     'properties': {'titulo': {'description': 'O título do post de blog',\n",
       "       'type': 'string'},\n",
       "      'autor': {'description': 'O autor do post de blog', 'type': 'string'},\n",
       "      'data': {'description': 'A data de publicação do post de blog',\n",
       "       'type': 'string'}},\n",
       "     'required': ['titulo', 'autor', 'data'],\n",
       "     'type': 'object'},\n",
       "    'type': 'array'}},\n",
       "  'required': ['posts'],\n",
       "  'type': 'object'}}"
      ]
     },
     "execution_count": 9,
     "metadata": {},
     "output_type": "execute_result"
    }
   ],
   "source": [
    "from pydantic import BaseModel, Field #Importação atualizada\n",
    "from typing import List\n",
    "from langchain_core.utils.function_calling import convert_to_openai_function\n",
    "\n",
    "class BlogPost(BaseModel):\n",
    "    '''Informações sobre um post de blog'''\n",
    "    titulo: str = Field(description='O título do post de blog')\n",
    "    autor: str = Field(description='O autor do post de blog')\n",
    "    data: str = Field(description='A data de publicação do post de blog')\n",
    "\n",
    "class BlogSite(BaseModel):\n",
    "    '''Lista de blog posts de um site'''\n",
    "    posts: List[BlogPost] = Field(description='Lista de posts de blog do site')\n",
    "\n",
    "tool_blog = convert_to_openai_function(BlogSite)\n",
    "tool_blog"
   ]
  },
  {
   "cell_type": "code",
   "execution_count": 10,
   "metadata": {},
   "outputs": [],
   "source": [
    "from langchain.output_parsers.openai_functions import JsonKeyOutputFunctionsParser\n",
    "from langchain.prompts import ChatPromptTemplate\n",
    "from langchain_openai import ChatOpenAI\n",
    "\n",
    "prompt = ChatPromptTemplate.from_messages([\n",
    "    ('system', 'Extraia da página todos os posts de blog com autor e data de publicação'),\n",
    "    ('user', '{input}')\n",
    "])\n",
    "chat = ChatOpenAI()\n",
    "chain = (prompt \n",
    "         | chat.bind(functions=[tool_blog], function_call={'name': 'BlogSite'})\n",
    "         | JsonKeyOutputFunctionsParser(key_name='posts'))\n"
   ]
  },
  {
   "cell_type": "code",
   "execution_count": 11,
   "metadata": {},
   "outputs": [
    {
     "data": {
      "text/plain": [
       "[{'titulo': '24 Destaques da Asimov Academy em 2024',\n",
       "  'autor': 'Rebeca Honório',\n",
       "  'data': '2 horas atrás'},\n",
       " {'titulo': 'Miniconda: a ferramenta ideal para configurar ambientes Python',\n",
       "  'autor': 'Rebeca Honório',\n",
       "  'data': '4 dias atrás'},\n",
       " {'titulo': 'Scikit-learn: o que é, por que usar e como instalar',\n",
       "  'autor': 'Rebeca Honório',\n",
       "  'data': '8 dias atrás'},\n",
       " {'titulo': 'Elbow Method e Silhouette Score: como identificar o número ideal de clusters',\n",
       "  'autor': 'Rodrigo Michilles',\n",
       "  'data': '9 dias atrás'},\n",
       " {'titulo': 'Análise preditiva: o que é, como funciona e qual a sua importância',\n",
       "  'autor': 'Rebeca Honório',\n",
       "  'data': '8 dias atrás'},\n",
       " {'titulo': 'Entendendo a regressão logística: conceitos, aplicações e exemplos práticos',\n",
       "  'autor': 'Rebeca Honório',\n",
       "  'data': '1 mês atrás'},\n",
       " {'titulo': 'Regressão Linear: conceitos fundamentais e aplicações práticas',\n",
       "  'autor': 'Rebeca Honório',\n",
       "  'data': '1 mês atrás'},\n",
       " {'titulo': 'O que é Ensemble Learning e suas principais técnicas',\n",
       "  'autor': 'Rebeca Honório',\n",
       "  'data': '1 mês atrás'}]"
      ]
     },
     "execution_count": 11,
     "metadata": {},
     "output_type": "execute_result"
    }
   ],
   "source": [
    "chain.invoke({'input': page})"
   ]
  },
  {
   "cell_type": "code",
   "execution_count": null,
   "metadata": {},
   "outputs": [],
   "source": []
  }
 ],
 "metadata": {
  "kernelspec": {
   "display_name": ".venv",
   "language": "python",
   "name": "python3"
  },
  "language_info": {
   "codemirror_mode": {
    "name": "ipython",
    "version": 3
   },
   "file_extension": ".py",
   "mimetype": "text/x-python",
   "name": "python",
   "nbconvert_exporter": "python",
   "pygments_lexer": "ipython3",
   "version": "3.11.9"
  }
 },
 "nbformat": 4,
 "nbformat_minor": 2
}
